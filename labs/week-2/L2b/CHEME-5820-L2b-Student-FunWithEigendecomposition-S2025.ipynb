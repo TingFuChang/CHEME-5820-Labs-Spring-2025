{
 "cells": [
  {
   "cell_type": "markdown",
   "id": "8ad43c13-6cb6-43ba-90b5-4688aa087375",
   "metadata": {},
   "source": [
    "# Lab 2b: Eigendecomposition of Stoichiometric Matrices\n",
    "In this lab, we'll explore the eigendecomposition of a standard matrix in chemical systems: the stoichiometric matrix $\\mathbf{S}$. The stoichiometric matrix is the digital representation of a chemical reaction system.\n",
    "\n",
    "### What is a stoichiometric matrix?\n",
    "\n",
    "Suppose we have a set of chemical (or biochemical) reactions $\\mathcal{R}$ involving the chemical species (metabolite) set $\\mathcal{M}$. Then, the stoichiometric matrix is a $\\mathbf{S}\\in\\mathbb{R}^{|\\mathcal{M}|\\times|\\mathcal{R}|}$ matrix that holds the stoichiometric coefficients $\\sigma_{ij}\\in\\mathbf{S}$ such that:\n",
    "* $\\sigma_{ij}>0$: Chemical species (metabolite) $i$ is _produced_ by reaction $j$. Species $i$ is a product of reaction $j$.\n",
    "* $\\sigma_{ij} = 0$: Chemical species (metabolite) $i$ is not connected with reaction $j$\n",
    "* $\\sigma_{ij}<0$: Chemical species (metabolite) $i$ is _consumed_ by reaction $j$. Species $i$ is a reactant of reaction $j$.\n",
    "\n",
    "\n",
    "### Tasks\n",
    "\n",
    "Before we start, divide into teams and familiarize yourself with the lab. Then, execute the `Run All Cells` command to check if you (or your neighbor) have any code or setup issues. Code issues, then raise your hands - and let's get those fixed!\n",
    "\n",
    "* __Task 1: Setup, Data, Constants (20 min)__: Let's take 20 minutes to review the dataset we'll explore today and set up some values we'll use in the other tasks. We'll load the data and do some initial _data munging_ (also called [data wrangling](https://en.wikipedia.org/wiki/Data_wrangling)) to get the dataset in a form that we'll use in our analysis.\n",
    "* __Task 2: Compute the eigendecomposition (10 min)__: In this task, we'll compute the eigendecomposition of the $\\mathbf{\\Sigma}$ matrix [using the `eigen(...)` method exported by the `LinearAlgebra.jl` package](https://docs.julialang.org/en/v1/stdlib/LinearAlgebra/#LinearAlgebra.eigen) and some checks on the results.\n",
    "* __Task 3: What does the largest eigenvalue/eigenvector tell us (20 min)?__: Now that we have the eigenvalues and eigenvectors, in this task, we'll explore what the largest eigenvector coefficients tell us about the $\\mathbf{\\Sigma}$ matrix and, by extension, the stoichiometric matrix $\\mathbf{S}$. Is there something interesting here?"
   ]
  },
  {
   "cell_type": "markdown",
   "id": "d1018fc3-c3b2-4c66-9c03-17e4b0a1d8fa",
   "metadata": {},
   "source": [
    "## Task 1: Setup, Data and Prerequisites\n",
    "We set up the computational environment by including the `Include.jl` file, loading any needed resources, such as sample datasets, and setting up any required constants. The `Include.jl` file loads external packages, various functions that we will use in the exercise, and custom types to model the components of our problem."
   ]
  },
  {
   "cell_type": "code",
   "execution_count": 1,
   "id": "a955d0e5-44a6-43c2-9e19-690e523d2068",
   "metadata": {},
   "outputs": [
    {
     "name": "stderr",
     "output_type": "stream",
     "text": [
      "\u001b[32m\u001b[1m  Activating\u001b[22m\u001b[39m project at `~/Documents/GitHub/CHEME-5820-Labs-Spring-2025/labs/week-2/L2b`\n",
      "\u001b[32m\u001b[1m   Installed\u001b[22m\u001b[39m CompositionsBase ─ v0.1.2\n",
      "\u001b[32m\u001b[1m   Installed\u001b[22m\u001b[39m ZygoteRules ────── v0.2.7\n",
      "\u001b[32m\u001b[1m   Installed\u001b[22m\u001b[39m Functors ───────── v0.4.12\n",
      "\u001b[32m\u001b[1m   Installed\u001b[22m\u001b[39m KernelFunctions ── v0.10.64\n",
      "\u001b[32m\u001b[1m    Updating\u001b[22m\u001b[39m `~/Documents/GitHub/CHEME-5820-Labs-Spring-2025/labs/week-2/L2b/Project.toml`\n",
      "  \u001b[90m[336ed68f] \u001b[39m\u001b[92m+ CSV v0.10.15\u001b[39m\n",
      "  \u001b[90m[a93c6f00] \u001b[39m\u001b[92m+ DataFrames v1.7.0\u001b[39m\n",
      "  \u001b[90m[5789e2e9] \u001b[39m\u001b[92m+ FileIO v1.16.6\u001b[39m\n",
      "  \u001b[90m[cd3eb016] \u001b[39m\u001b[92m+ HTTP v1.10.15\u001b[39m\n",
      "  \u001b[90m[033835bb] \u001b[39m\u001b[92m+ JLD2 v0.5.11\u001b[39m\n",
      "  \u001b[90m[682c06a0] \u001b[39m\u001b[92m+ JSON v0.21.4\u001b[39m\n",
      "  \u001b[90m[ec8451be] \u001b[39m\u001b[92m+ KernelFunctions v0.10.64\u001b[39m\n",
      "  \u001b[90m[10745b16] \u001b[39m\u001b[92m+ Statistics v1.11.1\u001b[39m\n",
      "  \u001b[90m[b27032c2] \u001b[39m\u001b[93m~ LibCURL ⇒ v0.6.4\u001b[39m\n",
      "  \u001b[90m[37e2e46d] \u001b[39m\u001b[93m~ LinearAlgebra ⇒ v1.11.0\u001b[39m\n",
      "\u001b[32m\u001b[1m    Updating\u001b[22m\u001b[39m `~/Documents/GitHub/CHEME-5820-Labs-Spring-2025/labs/week-2/L2b/Manifest.toml`\n",
      "  \u001b[90m[66dad0bd] \u001b[39m\u001b[92m+ AliasTables v1.1.3\u001b[39m\n",
      "  \u001b[90m[d1d4a3ce] \u001b[39m\u001b[92m+ BitFlags v0.1.9\u001b[39m\n",
      "  \u001b[90m[336ed68f] \u001b[39m\u001b[92m+ CSV v0.10.15\u001b[39m\n",
      "  \u001b[90m[d360d2e6] \u001b[39m\u001b[92m+ ChainRulesCore v1.25.1\u001b[39m\n",
      "  \u001b[90m[944b1d66] \u001b[39m\u001b[92m+ CodecZlib v0.7.6\u001b[39m\n",
      "  \u001b[90m[34da2185] \u001b[39m\u001b[92m+ Compat v4.16.0\u001b[39m\n",
      "  \u001b[90m[a33af91c] \u001b[39m\u001b[92m+ CompositionsBase v0.1.2\u001b[39m\n",
      "  \u001b[90m[f0e56b4a] \u001b[39m\u001b[92m+ ConcurrentUtilities v2.4.3\u001b[39m\n",
      "  \u001b[90m[a8cc5b0e] \u001b[39m\u001b[92m+ Crayons v4.1.1\u001b[39m\n",
      "  \u001b[90m[9a962f9c] \u001b[39m\u001b[92m+ DataAPI v1.16.0\u001b[39m\n",
      "  \u001b[90m[a93c6f00] \u001b[39m\u001b[92m+ DataFrames v1.7.0\u001b[39m\n",
      "  \u001b[90m[864edb3b] \u001b[39m\u001b[92m+ DataStructures v0.18.20\u001b[39m\n",
      "  \u001b[90m[e2d170a0] \u001b[39m\u001b[92m+ DataValueInterfaces v1.0.0\u001b[39m\n",
      "  \u001b[90m[b4f34e82] \u001b[39m\u001b[92m+ Distances v0.10.12\u001b[39m\n",
      "  \u001b[90m[ffbed154] \u001b[39m\u001b[92m+ DocStringExtensions v0.9.3\u001b[39m\n",
      "  \u001b[90m[460bff9d] \u001b[39m\u001b[92m+ ExceptionUnwrapping v0.1.11\u001b[39m\n",
      "  \u001b[90m[5789e2e9] \u001b[39m\u001b[92m+ FileIO v1.16.6\u001b[39m\n",
      "  \u001b[90m[48062228] \u001b[39m\u001b[92m+ FilePathsBase v0.9.22\u001b[39m\n",
      "  \u001b[90m[1a297f60] \u001b[39m\u001b[92m+ FillArrays v1.13.0\u001b[39m\n",
      "\u001b[33m⌅\u001b[39m \u001b[90m[d9f16b24] \u001b[39m\u001b[92m+ Functors v0.4.12\u001b[39m\n",
      "  \u001b[90m[cd3eb016] \u001b[39m\u001b[92m+ HTTP v1.10.15\u001b[39m\n",
      "  \u001b[90m[842dd82b] \u001b[39m\u001b[92m+ InlineStrings v1.4.2\u001b[39m\n",
      "  \u001b[90m[41ab1584] \u001b[39m\u001b[92m+ InvertedIndices v1.3.1\u001b[39m\n",
      "  \u001b[90m[92d709cd] \u001b[39m\u001b[92m+ IrrationalConstants v0.2.2\u001b[39m\n",
      "  \u001b[90m[82899510] \u001b[39m\u001b[92m+ IteratorInterfaceExtensions v1.0.0\u001b[39m\n",
      "  \u001b[90m[033835bb] \u001b[39m\u001b[92m+ JLD2 v0.5.11\u001b[39m\n",
      "  \u001b[90m[692b3bcd] \u001b[39m\u001b[92m+ JLLWrappers v1.7.0\u001b[39m\n",
      "  \u001b[90m[682c06a0] \u001b[39m\u001b[92m+ JSON v0.21.4\u001b[39m\n",
      "  \u001b[90m[ec8451be] \u001b[39m\u001b[92m+ KernelFunctions v0.10.64\u001b[39m\n",
      "  \u001b[90m[b964fa9f] \u001b[39m\u001b[92m+ LaTeXStrings v1.4.0\u001b[39m\n",
      "  \u001b[90m[2ab3a3ac] \u001b[39m\u001b[92m+ LogExpFunctions v0.3.29\u001b[39m\n",
      "  \u001b[90m[e6f89c97] \u001b[39m\u001b[92m+ LoggingExtras v1.1.0\u001b[39m\n",
      "  \u001b[90m[1914dd2f] \u001b[39m\u001b[92m+ MacroTools v0.5.15\u001b[39m\n",
      "  \u001b[90m[739be429] \u001b[39m\u001b[92m+ MbedTLS v1.1.9\u001b[39m\n",
      "  \u001b[90m[e1d29d7a] \u001b[39m\u001b[92m+ Missings v1.2.0\u001b[39m\n",
      "  \u001b[90m[4d8831e6] \u001b[39m\u001b[92m+ OpenSSL v1.4.3\u001b[39m\n",
      "  \u001b[90m[bac558e1] \u001b[39m\u001b[92m+ OrderedCollections v1.7.0\u001b[39m\n",
      "  \u001b[90m[69de0a69] \u001b[39m\u001b[92m+ Parsers v2.8.1\u001b[39m\n",
      "  \u001b[90m[2dfb63ee] \u001b[39m\u001b[92m+ PooledArrays v1.4.3\u001b[39m\n",
      "  \u001b[90m[aea7be01] \u001b[39m\u001b[92m+ PrecompileTools v1.2.1\u001b[39m\n",
      "  \u001b[90m[21216c6a] \u001b[39m\u001b[92m+ Preferences v1.4.3\u001b[39m\n",
      "  \u001b[90m[08abe8d2] \u001b[39m\u001b[92m+ PrettyTables v2.4.0\u001b[39m\n",
      "  \u001b[90m[43287f4e] \u001b[39m\u001b[92m+ PtrArrays v1.3.0\u001b[39m\n",
      "  \u001b[90m[189a3867] \u001b[39m\u001b[92m+ Reexport v1.2.2\u001b[39m\n",
      "  \u001b[90m[ae029012] \u001b[39m\u001b[92m+ Requires v1.3.0\u001b[39m\n",
      "  \u001b[90m[91c51154] \u001b[39m\u001b[92m+ SentinelArrays v1.4.8\u001b[39m\n",
      "  \u001b[90m[777ac1f9] \u001b[39m\u001b[92m+ SimpleBufferStream v1.2.0\u001b[39m\n",
      "  \u001b[90m[a2af1166] \u001b[39m\u001b[92m+ SortingAlgorithms v1.2.1\u001b[39m\n",
      "  \u001b[90m[276daf66] \u001b[39m\u001b[92m+ SpecialFunctions v2.5.0\u001b[39m\n",
      "  \u001b[90m[10745b16] \u001b[39m\u001b[92m+ Statistics v1.11.1\u001b[39m\n",
      "  \u001b[90m[82ae8749] \u001b[39m\u001b[92m+ StatsAPI v1.7.0\u001b[39m\n",
      "  \u001b[90m[2913bbd2] \u001b[39m\u001b[92m+ StatsBase v0.34.4\u001b[39m\n",
      "  \u001b[90m[892a3eda] \u001b[39m\u001b[92m+ StringManipulation v0.4.0\u001b[39m\n",
      "  \u001b[90m[3783bdb8] \u001b[39m\u001b[92m+ TableTraits v1.0.1\u001b[39m\n",
      "  \u001b[90m[bd369af6] \u001b[39m\u001b[92m+ Tables v1.12.0\u001b[39m\n",
      "  \u001b[90m[62fd8b95] \u001b[39m\u001b[92m+ TensorCore v0.1.1\u001b[39m\n",
      "  \u001b[90m[3bb67fe8] \u001b[39m\u001b[92m+ TranscodingStreams v0.11.3\u001b[39m\n",
      "  \u001b[90m[5c2747f8] \u001b[39m\u001b[92m+ URIs v1.5.1\u001b[39m\n",
      "  \u001b[90m[ea10d353] \u001b[39m\u001b[92m+ WeakRefStrings v1.4.2\u001b[39m\n",
      "  \u001b[90m[76eceee3] \u001b[39m\u001b[92m+ WorkerUtilities v1.6.1\u001b[39m\n",
      "  \u001b[90m[700de1a5] \u001b[39m\u001b[92m+ ZygoteRules v0.2.7\u001b[39m\n",
      "  \u001b[90m[458c3c95] \u001b[39m\u001b[92m+ OpenSSL_jll v3.0.15+3\u001b[39m\n",
      "  \u001b[90m[efe28fd5] \u001b[39m\u001b[92m+ OpenSpecFun_jll v0.5.6+0\u001b[39m\n",
      "  \u001b[90m[0dad84c5] \u001b[39m\u001b[92m+ ArgTools v1.1.2\u001b[39m\n",
      "  \u001b[90m[56f22d72] \u001b[39m\u001b[92m+ Artifacts v1.11.0\u001b[39m\n",
      "  \u001b[90m[2a0f44e3] \u001b[39m\u001b[92m+ Base64 v1.11.0\u001b[39m\n",
      "  \u001b[90m[ade2ca70] \u001b[39m\u001b[92m+ Dates v1.11.0\u001b[39m\n",
      "  \u001b[90m[f43a241f] \u001b[39m\u001b[92m+ Downloads v1.6.0\u001b[39m\n",
      "  \u001b[90m[7b1f6079] \u001b[39m\u001b[92m+ FileWatching v1.11.0\u001b[39m\n",
      "  \u001b[90m[9fa8497b] \u001b[39m\u001b[92m+ Future v1.11.0\u001b[39m\n",
      "  \u001b[90m[b77e0a4c] \u001b[39m\u001b[92m+ InteractiveUtils v1.11.0\u001b[39m\n",
      "  \u001b[90m[b27032c2] \u001b[39m\u001b[92m+ LibCURL v0.6.4\u001b[39m\n",
      "  \u001b[90m[76f85450] \u001b[39m\u001b[92m+ LibGit2 v1.11.0\u001b[39m\n",
      "  \u001b[90m[8f399da3] \u001b[39m\u001b[92m+ Libdl v1.11.0\u001b[39m\n",
      "  \u001b[90m[37e2e46d] \u001b[39m\u001b[92m+ LinearAlgebra v1.11.0\u001b[39m\n",
      "  \u001b[90m[56ddb016] \u001b[39m\u001b[92m+ Logging v1.11.0\u001b[39m\n",
      "  \u001b[90m[d6f4376e] \u001b[39m\u001b[92m+ Markdown v1.11.0\u001b[39m\n",
      "  \u001b[90m[a63ad114] \u001b[39m\u001b[92m+ Mmap v1.11.0\u001b[39m\n",
      "  \u001b[90m[ca575930] \u001b[39m\u001b[92m+ NetworkOptions v1.2.0\u001b[39m\n",
      "  \u001b[90m[44cfe95a] \u001b[39m\u001b[92m+ Pkg v1.11.0\u001b[39m\n",
      "  \u001b[90m[de0858da] \u001b[39m\u001b[92m+ Printf v1.11.0\u001b[39m\n",
      "  \u001b[90m[9a3f8284] \u001b[39m\u001b[92m+ Random v1.11.0\u001b[39m\n",
      "  \u001b[90m[ea8e919c] \u001b[39m\u001b[92m+ SHA v0.7.0\u001b[39m\n",
      "  \u001b[90m[9e88b42a] \u001b[39m\u001b[92m+ Serialization v1.11.0\u001b[39m\n",
      "  \u001b[90m[6462fe0b] \u001b[39m\u001b[92m+ Sockets v1.11.0\u001b[39m\n",
      "  \u001b[90m[2f01184e] \u001b[39m\u001b[92m+ SparseArrays v1.11.0\u001b[39m\n",
      "  \u001b[90m[fa267f1f] \u001b[39m\u001b[92m+ TOML v1.0.3\u001b[39m\n",
      "  \u001b[90m[a4e569a6] \u001b[39m\u001b[92m+ Tar v1.10.0\u001b[39m\n",
      "  \u001b[90m[8dfed614] \u001b[39m\u001b[92m+ Test v1.11.0\u001b[39m\n",
      "  \u001b[90m[cf7118a7] \u001b[39m\u001b[92m+ UUIDs v1.11.0\u001b[39m\n",
      "  \u001b[90m[4ec0a83e] \u001b[39m\u001b[92m+ Unicode v1.11.0\u001b[39m\n",
      "  \u001b[90m[e66e0078] \u001b[39m\u001b[92m+ CompilerSupportLibraries_jll v1.1.1+0\u001b[39m\n",
      "  \u001b[90m[deac9b47] \u001b[39m\u001b[92m+ LibCURL_jll v8.6.0+0\u001b[39m\n",
      "  \u001b[90m[e37daf67] \u001b[39m\u001b[92m+ LibGit2_jll v1.7.2+0\u001b[39m\n",
      "  \u001b[90m[29816b5a] \u001b[39m\u001b[92m+ LibSSH2_jll v1.11.0+1\u001b[39m\n",
      "  \u001b[90m[c8ffd9c3] \u001b[39m\u001b[92m+ MbedTLS_jll v2.28.6+0\u001b[39m\n",
      "  \u001b[90m[14a3606d] \u001b[39m\u001b[92m+ MozillaCACerts_jll v2023.12.12\u001b[39m\n",
      "  \u001b[90m[4536629a] \u001b[39m\u001b[92m+ OpenBLAS_jll v0.3.27+1\u001b[39m\n",
      "  \u001b[90m[05823500] \u001b[39m\u001b[92m+ OpenLibm_jll v0.8.1+2\u001b[39m\n",
      "  \u001b[90m[bea87d4a] \u001b[39m\u001b[92m+ SuiteSparse_jll v7.7.0+0\u001b[39m\n",
      "  \u001b[90m[83775a58] \u001b[39m\u001b[92m+ Zlib_jll v1.2.13+1\u001b[39m\n",
      "  \u001b[90m[8e850b90] \u001b[39m\u001b[92m+ libblastrampoline_jll v5.11.0+0\u001b[39m\n",
      "  \u001b[90m[8e850ede] \u001b[39m\u001b[92m+ nghttp2_jll v1.59.0+0\u001b[39m\n",
      "  \u001b[90m[3f19e933] \u001b[39m\u001b[92m+ p7zip_jll v17.4.0+2\u001b[39m\n",
      "\u001b[36m\u001b[1m        Info\u001b[22m\u001b[39m Packages marked with \u001b[33m⌅\u001b[39m have new versions available but compatibility constraints restrict them from upgrading. To see why use `status --outdated -m`\n",
      "\u001b[92m\u001b[1mPrecompiling\u001b[22m\u001b[39m project...\n",
      "    278.1 ms\u001b[32m  ✓ \u001b[39m\u001b[90mCompositionsBase\u001b[39m\n",
      "    348.7 ms\u001b[32m  ✓ \u001b[39m\u001b[90mZygoteRules\u001b[39m\n",
      "    395.8 ms\u001b[32m  ✓ \u001b[39m\u001b[90mFunctors\u001b[39m\n",
      "   1823.4 ms\u001b[32m  ✓ \u001b[39mKernelFunctions\n",
      "  4 dependencies successfully precompiled in 3 seconds. 104 already precompiled.\n",
      "\u001b[32m\u001b[1m    Updating\u001b[22m\u001b[39m registry at `~/.julia/registries/General.toml`\n",
      "\u001b[32m\u001b[1m  No Changes\u001b[22m\u001b[39m to `~/Documents/GitHub/CHEME-5820-Labs-Spring-2025/labs/week-2/L2b/Project.toml`\n",
      "\u001b[32m\u001b[1m  No Changes\u001b[22m\u001b[39m to `~/Documents/GitHub/CHEME-5820-Labs-Spring-2025/labs/week-2/L2b/Manifest.toml`\n"
     ]
    }
   ],
   "source": [
    "include(\"Include.jl\"); # load packages, and sets up the environment"
   ]
  },
  {
   "cell_type": "markdown",
   "id": "8e164a9e-f226-4120-a7cf-5575f73296bf",
   "metadata": {},
   "source": [
    "### Data\n",
    "We developed a simple software development kit (SDK) against [the BiGG Models application programming interface at the University of California, San Diego](http://bigg.ucsd.edu/). The [BiGG Models database](http://bigg.ucsd.edu/) integrates published genome-scale metabolic networks into a single database with standardized nomenclature and structure. \n",
    "* [The BiGG models API](http://bigg.ucsd.edu/data_access) allows users to programmatically access genome-scale stoichiometric model reconstructions using a simple web API. There are `108` models of intracellular biochemistry occurring in various organisms (including humans) in the database (so far); [see here for a list of models](http://bigg.ucsd.edu/models).\n",
    "* Here, we'll first explore the [core metabolic model of Palsson and coworkers](https://pubmed.ncbi.nlm.nih.gov/26443778/), which is a scaled-down model of [carbohydrate metabolism](https://en.wikipedia.org/wiki/Carbohydrate_metabolism) in _E.coli_. This model has 72 metabolites and 95 reactions. We'll then look at other models, and see what is going on with these.\n",
    "\n",
    "We call the model download endpoint of [the BiGG models API](http://bigg.ucsd.edu/data_access) and then save the model file to disk (so we don't hit the API unless we have to). This call returns model information organized as [a Julia dictionary](https://docs.julialang.org/en/v1/base/collections/#Base.Dict) in the `model::Dict{String, Any}` variable. If a model file is saved, we use the cached file instead of making an API call."
   ]
  },
  {
   "cell_type": "code",
   "execution_count": 22,
   "id": "5651b4e0-a56f-43d7-b350-3caeb68bed66",
   "metadata": {},
   "outputs": [
    {
     "ename": "UndefVarError",
     "evalue": "UndefVarError: `modelid` not defined in `Main`\nSuggestion: check for spelling errors or missing imports.",
     "output_type": "error",
     "traceback": [
      "UndefVarError: `modelid` not defined in `Main`\n",
      "Suggestion: check for spelling errors or missing imports.\n",
      "\n",
      "Stacktrace:\n",
      " [1] top-level scope\n",
      "   @ ~/Documents/GitHub/CHEME-5820-Labs-Spring-2025/labs/week-2/L2b/jl_notebook_cell_df34fa98e69747e1a8f8a730347b8e2f_W4sZmlsZQ==.jl:6"
     ]
    }
   ],
   "source": [
    "model = let\n",
    "\n",
    "    # build download endpoint -\n",
    "    baseurl = \"http://bigg.ucsd.edu\"; # base url to download model\n",
    "    # modelid = \"iAB_RBC_283\"; # TODO: update the model id to download this model\n",
    "    path_to_saved_model_file = joinpath(_PATH_TO_DATA, \"saved-model-$(modelid).jld2\");\n",
    "\n",
    "    # check: do we have a model file saved?\n",
    "    model = nothing;\n",
    "    if (isfile(path_to_saved_model_file) == false)\n",
    "        \n",
    "        endpoint = MyBiggModelsDownloadModelEndpointModel();\n",
    "        endpoint.bigg_id = modelid;\n",
    "        url = build(baseurl, endpoint)\n",
    "        model = MyBiggModelsDownloadModelEndpointModel(url);\n",
    "\n",
    "        # Before we move on, save this model for later (so we don't keep hitting the API)\n",
    "        save(path_to_saved_model_file, Dict(\"model\" => model));\n",
    "    else\n",
    "        model = load(path_to_saved_model_file)[\"model\"];\n",
    "    end\n",
    "    model; # return the model (either saved, or downloaded)\n",
    "end"
   ]
  },
  {
   "cell_type": "markdown",
   "id": "fddedbf8-8031-492f-89ee-cfce4a37facc",
   "metadata": {},
   "source": [
    "__Metabolite records__: Each metabolite (chemical compound) in the network has an associated metabolite record with several fields. Let's take a look at the metabolite at index `1`. Pick a different record, and look at the contents.\n",
    "* The key field for today in the metabolite record is the `id` field, an abbreviation or symbol associated with this metabolite."
   ]
  },
  {
   "cell_type": "code",
   "execution_count": 3,
   "id": "9afddf7b-38d8-4330-8334-5bdf7fdea790",
   "metadata": {},
   "outputs": [
    {
     "ename": "UndefVarError",
     "evalue": "UndefVarError: `model` not defined in `Main`\nSuggestion: check for spelling errors or missing imports.",
     "output_type": "error",
     "traceback": [
      "UndefVarError: `model` not defined in `Main`\n",
      "Suggestion: check for spelling errors or missing imports.\n",
      "\n",
      "Stacktrace:\n",
      " [1] top-level scope\n",
      "   @ ~/Documents/GitHub/CHEME-5820-Labs-Spring-2025/labs/week-2/L2b/jl_notebook_cell_df34fa98e69747e1a8f8a730347b8e2f_W6sZmlsZQ==.jl:1"
     ]
    }
   ],
   "source": [
    "model[\"metabolites\"][1] # example metabolite record"
   ]
  },
  {
   "cell_type": "markdown",
   "id": "105f7c6c-af25-401e-b4c1-acc0bb22ed62",
   "metadata": {},
   "source": [
    "__Reaction records__: Similarly, each reaction in the network has a reaction record with several fields. Let's look at the reaction record at index `25`. Pick a different record, and look at the contents.\n",
    "* The key field for the reaction record is the `metabolites` field, which lists the stoichiometric coefficients associated with this particular reaction."
   ]
  },
  {
   "cell_type": "code",
   "execution_count": 4,
   "id": "9a972ff2-5203-4aca-ab7c-3fda49f8162c",
   "metadata": {},
   "outputs": [
    {
     "ename": "UndefVarError",
     "evalue": "UndefVarError: `model` not defined in `Main`\nSuggestion: check for spelling errors or missing imports.",
     "output_type": "error",
     "traceback": [
      "UndefVarError: `model` not defined in `Main`\n",
      "Suggestion: check for spelling errors or missing imports.\n",
      "\n",
      "Stacktrace:\n",
      " [1] top-level scope\n",
      "   @ ~/Documents/GitHub/CHEME-5820-Labs-Spring-2025/labs/week-2/L2b/jl_notebook_cell_df34fa98e69747e1a8f8a730347b8e2f_X11sZmlsZQ==.jl:1"
     ]
    }
   ],
   "source": [
    "model[\"reactions\"][25] # example reaction record"
   ]
  },
  {
   "cell_type": "code",
   "execution_count": 5,
   "id": "d3a9029a-6650-42bb-a27a-a488fb424cee",
   "metadata": {},
   "outputs": [
    {
     "ename": "UndefVarError",
     "evalue": "UndefVarError: `model` not defined in `Main`\nSuggestion: check for spelling errors or missing imports.",
     "output_type": "error",
     "traceback": [
      "UndefVarError: `model` not defined in `Main`\n",
      "Suggestion: check for spelling errors or missing imports.\n",
      "\n",
      "Stacktrace:\n",
      " [1] top-level scope\n",
      "   @ ~/Documents/GitHub/CHEME-5820-Labs-Spring-2025/labs/week-2/L2b/jl_notebook_cell_df34fa98e69747e1a8f8a730347b8e2f_X12sZmlsZQ==.jl:1"
     ]
    }
   ],
   "source": [
    "model[\"reactions\"][25][\"metabolites\"]"
   ]
  },
  {
   "cell_type": "markdown",
   "id": "1d4c4971-c938-4bf5-b060-97f487a47812",
   "metadata": {},
   "source": [
    "__Stoichiometric matrix__: Next, let's build a stoichiometric matrix $\\mathbf{S}$ using the metabolite and reaction records. We'll do this using two for loops. \n",
    "* __Strategy__: In the outer loop, we iterate over the system's metabolites (chemical species) and select the `id` from the metabolites record for each metabolite. In the inner loop, we iterate over each reaction. For each reaction record, we ask if this reaction has an entry for the current metabolite `id` value; if it does, we grab the stoichiometric coefficient $\\sigma_{ij}$ corresponding to this metabolite and reaction."
   ]
  },
  {
   "cell_type": "code",
   "execution_count": 6,
   "id": "59ccfc68-3498-4cac-bed6-846ad7281736",
   "metadata": {},
   "outputs": [
    {
     "ename": "UndefVarError",
     "evalue": "UndefVarError: `model` not defined in `Main`\nSuggestion: check for spelling errors or missing imports.",
     "output_type": "error",
     "traceback": [
      "UndefVarError: `model` not defined in `Main`\n",
      "Suggestion: check for spelling errors or missing imports.\n",
      "\n",
      "Stacktrace:\n",
      " [1] top-level scope\n",
      "   @ ~/Documents/GitHub/CHEME-5820-Labs-Spring-2025/labs/week-2/L2b/jl_notebook_cell_df34fa98e69747e1a8f8a730347b8e2f_X14sZmlsZQ==.jl:4"
     ]
    }
   ],
   "source": [
    "S = let\n",
    "\n",
    "    # get some data from the model -\n",
    "    m = model[\"metabolites\"]; # get list of metabolites\n",
    "    r = model[\"reactions\"]; # get list of reactions\n",
    "    number_of_rows = length(m); # how many metabolites do we have? (rows)\n",
    "    number_of_cols = length(r); # how many reactions do we have? (cols)\n",
    "    S = zeros(number_of_rows,number_of_cols); # initialize an empty stoichiometric matrix\n",
    "\n",
    "    # let's build a stm -\n",
    "    for i ∈ eachindex(m)\n",
    "        metabolite = m[i][\"id\"]; # we are checking if this metabolite is in the reaction record\n",
    "        for j ∈ eachindex(r)\n",
    "            reaction = r[j];\n",
    "            if (haskey(reaction[\"metabolites\"], metabolite) == true)\n",
    "                S[i,j] = reaction[\"metabolites\"][metabolite];\n",
    "            end\n",
    "        end\n",
    "    end\n",
    "    S; \n",
    "end;"
   ]
  },
  {
   "cell_type": "code",
   "execution_count": 7,
   "id": "1c07be36-4124-4484-878e-38e1f1b9d0a2",
   "metadata": {},
   "outputs": [
    {
     "ename": "UndefVarError",
     "evalue": "UndefVarError: `S` not defined in `Main`\nSuggestion: check for spelling errors or missing imports.",
     "output_type": "error",
     "traceback": [
      "UndefVarError: `S` not defined in `Main`\n",
      "Suggestion: check for spelling errors or missing imports.\n"
     ]
    }
   ],
   "source": [
    "S"
   ]
  },
  {
   "cell_type": "markdown",
   "id": "76127959-ad13-491e-9103-761da278908f",
   "metadata": {},
   "source": [
    "### Covariance matrix $\\mathbf{\\Sigma}$\n",
    "The stoichiometric matrix is not square. Thus, we cannot directly compute its eigendecomposition. However, suppose we compute [the covariance matrix](https://en.wikipedia.org/wiki/Covariance_matrix) between the columns, i.e., between the reactions stoichiometric vectors. This gives us an idea about the relationship between the network's reactions $i$ and $j$."
   ]
  },
  {
   "cell_type": "code",
   "execution_count": 8,
   "id": "5ee14d17-cdd9-4e91-8194-9b19a48bc13a",
   "metadata": {},
   "outputs": [],
   "source": [
    "# Σ = cov(S) # TODO: uncomment me to compute the covariance matrix"
   ]
  },
  {
   "cell_type": "markdown",
   "id": "f3d36013-c215-402d-b1ae-b5b837198907",
   "metadata": {},
   "source": [
    "__Idea__: Hmmm. The entries of the covariance matrix $\\Sigma_{ij} = \\sigma_{i}\\sigma_{j}\\rho_{ij}$ seem a little strange for stoichiometric vectors. Alternatively, suppose we defined another similarity matrix $\\hat{\\mathbf{\\Sigma}}$ using [a Kernel function](https://en.wikipedia.org/wiki/Kernel_method) to compute each entry. The function $\\hat{\\Sigma}_{ij} = k(\\mathbf{\\sigma}_{i},\\mathbf{\\sigma}_{j})$, where $k:\\mathbb{R}^{|\\mathcal{M}|}\\times\\mathbb{R}^{|\\mathcal{M}|}\\rightarrow\\mathbb{R}$ is [a Kernel function](https://en.wikipedia.org/wiki/Kernel_method) that takes two columns $\\mathbf{\\sigma}_{i}$ and $\\mathbf{\\sigma}_{j}$ for the stoichiometric matrix $\\mathbf{S}$ and returns a _similarity score_. \n",
    "\n",
    "Let's try this out this idea using the functions exported by [the `KernelFunctions.jl` package](https://github.com/JuliaGaussianProcesses/KernelFunctions.jl) and see what happens."
   ]
  },
  {
   "cell_type": "code",
   "execution_count": 9,
   "id": "531b11a4-6234-49b7-875f-21b8be209733",
   "metadata": {},
   "outputs": [
    {
     "ename": "UndefVarError",
     "evalue": "UndefVarError: `S` not defined in `Main`\nSuggestion: check for spelling errors or missing imports.",
     "output_type": "error",
     "traceback": [
      "UndefVarError: `S` not defined in `Main`\n",
      "Suggestion: check for spelling errors or missing imports.\n",
      "\n",
      "Stacktrace:\n",
      " [1] top-level scope\n",
      "   @ ~/Documents/GitHub/CHEME-5820-Labs-Spring-2025/labs/week-2/L2b/jl_notebook_cell_df34fa98e69747e1a8f8a730347b8e2f_X22sZmlsZQ==.jl:4"
     ]
    }
   ],
   "source": [
    "Σ̂ = let\n",
    "\n",
    "    # initialize\n",
    "    (number_of_metabolites, number_of_reactions) = size(S); # dimension of the system\n",
    "    Σ̂ = zeros(number_of_reactions,number_of_reactions);\n",
    "\n",
    "    d = SqExponentialKernel(); # what kernel function are we using?\n",
    "    for i ∈ 1:number_of_reactions\n",
    "        σᵢ = S[:,i]; # ith reaction\n",
    "        for j ∈ 1:number_of_reactions\n",
    "            σⱼ = S[:,j];\n",
    "            Σ̂[i,j] = d(σᵢ,σⱼ)\n",
    "        end\n",
    "    end\n",
    "    Σ̂\n",
    "end"
   ]
  },
  {
   "cell_type": "markdown",
   "id": "5dff4973-cd20-4b13-a888-46f1c8adc65d",
   "metadata": {},
   "source": [
    "## Task 2: Compute the eigendecomposition \n",
    "In this task, we'll compute the eigendecomposition of the $\\mathbf{\\Sigma}$ matrix [using the `eigen(...)` method exported by the `LinearAlgebra.jl` package](https://docs.julialang.org/en/v1/stdlib/LinearAlgebra/#LinearAlgebra.eigen). We'll store the eigenvalues in the diagonal $\\mathbf{\\Lambda}$ matrix, while the eigenvectors will be stored in the $\\mathbf{V}$ matrix.\n",
    "* __Why compute all the values__? In the last task, we will consider what we can do with all the eigenvectors and eigenvalues. Thus, we'll use [the `eigen(...)` method](https://docs.julialang.org/en/v1/stdlib/LinearAlgebra/#LinearAlgebra.eigen) and then grab the last value(s) in task 2 where we look at the largest value, but we'll use the rest later. We'll also check the _magical properties_ of the eigendecomposition of symmetric real matrices; we need all the values for this check."
   ]
  },
  {
   "cell_type": "code",
   "execution_count": 10,
   "id": "19bbb025-3688-4938-be93-b3a32358a837",
   "metadata": {},
   "outputs": [
    {
     "ename": "UndefVarError",
     "evalue": "UndefVarError: `Σ` not defined in `Main`\nSuggestion: check for spelling errors or missing imports.",
     "output_type": "error",
     "traceback": [
      "UndefVarError: `Σ` not defined in `Main`\n",
      "Suggestion: check for spelling errors or missing imports.\n",
      "\n",
      "Stacktrace:\n",
      " [1] top-level scope\n",
      "   @ ~/Documents/GitHub/CHEME-5820-Labs-Spring-2025/labs/week-2/L2b/jl_notebook_cell_df34fa98e69747e1a8f8a730347b8e2f_X24sZmlsZQ==.jl:4"
     ]
    }
   ],
   "source": [
    "Λ,V = let\n",
    "\n",
    "    # initialize -\n",
    "    A = Σ; # this is the matrix that we will decompose (if we are looking Σ̂, then change)\n",
    "    (n,m) = size(A); # what is the dimension of A?\n",
    "    Λ = Matrix{Float64}(1.0*I, n, n); # builds the I matrix, we'll update with λ -\n",
    "\n",
    "    # TODO: Uncomment me to run eigendecomposition using the built-in function\n",
    "    # F = eigen(A);   # eigenvalues and vectors in F of type Eigen\n",
    "    # λ = F.values;   # vector of eigenvalues\n",
    "    # V = F.vectors;  # n x n matrix of eigenvectors, each col is an eigenvector\n",
    "\n",
    "    # package the eigenvalues into Λ -\n",
    "    for i ∈ 1:n\n",
    "        Λ[i,i] = λ[i];\n",
    "    end\n",
    "\n",
    "    Λ,V\n",
    "end;"
   ]
  },
  {
   "cell_type": "markdown",
   "id": "5e374f30-ed20-4416-8800-a795d6ca1f1d",
   "metadata": {},
   "source": [
    "### Check: Are the magical properties of the eigendecomposition of $\\mathbf{\\Sigma}$ true?\n",
    "The covariance matrix $\\mathbf{\\Sigma}$ is a real-valued, symmetric matrix. So, it's eigenvalues and eigenvectors should have two important properties:\n",
    "* __Property 1__: All the eigenvalues $\\left\\{\\lambda_{1},\\lambda_{2},\\dots,\\lambda_{m}\\right\\}$ of the matrix $\\mathbf{\\Sigma}$ are real-valued.\n",
    "* __Property 2__: The eigenvectors $\\left\\{\\mathbf{v}_{1},\\mathbf{v}_{2},\\dots,\\mathbf{v}_{m}\\right\\}$ of the matrix $\\mathbf{A}$ are orthogonal, i.e., $\\left<\\mathbf{v}_{i},\\mathbf{v}_{j}\\right> = 0$ for $i\\neq{j}$. Further, the (normalized) eigenvectors $\\hat{\\mathbf{v}}_{j} = \\mathbf{v}_{j}/\\lVert\\mathbf{v}_{j}\\rVert$ of a symmetric real-valued matrix are orthonormal $\\left<\\hat{\\mathbf{v}}_{i},\\hat{\\mathbf{v}}_{j}\\right> = \\delta_{ij}\\,\\text{for}\\,{i,j\\in\\mathbf{A}}$ where $\\delta_{ij}$ is the [Kronecker delta function](https://en.wikipedia.org/wiki/Kronecker_delta).\n",
    "\n",
    "Let's start by checking __Property 1__. We'll iterate through each eigenvalue and check whether it is real using [the @assert macro](https://docs.julialang.org/en/v1/base/base/#Base.@assert) if this test fails, [an `AssertionError` is thrown](https://docs.julialang.org/en/v1/base/base/#Core.AssertionError)."
   ]
  },
  {
   "cell_type": "code",
   "execution_count": 11,
   "id": "437ebf68-84c8-4b3d-9a9f-0c691ef2bb3a",
   "metadata": {},
   "outputs": [
    {
     "ename": "UndefVarError",
     "evalue": "UndefVarError: `Λ` not defined in `Main`\nSuggestion: check for spelling errors or missing imports.",
     "output_type": "error",
     "traceback": [
      "UndefVarError: `Λ` not defined in `Main`\n",
      "Suggestion: check for spelling errors or missing imports.\n",
      "\n",
      "Stacktrace:\n",
      " [1] top-level scope\n",
      "   @ ~/Documents/GitHub/CHEME-5820-Labs-Spring-2025/labs/week-2/L2b/jl_notebook_cell_df34fa98e69747e1a8f8a730347b8e2f_X26sZmlsZQ==.jl:2"
     ]
    }
   ],
   "source": [
    "let\n",
    "    λ = diag(Λ); # get the elements of the diagonal matrix; this will be the eigenvalues\n",
    "    for λᵢ ∈ λ\n",
    "        @assert isreal(λᵢ) == true; # if we fail this test, an AssertionError will be thrown\n",
    "    end\n",
    "end"
   ]
  },
  {
   "cell_type": "markdown",
   "id": "9818b5fb-a618-430c-ae58-7714457887d3",
   "metadata": {},
   "source": [
    "Next, let's check __Property 2__. We'll iterate through each $(i,j)$ pair of eigenvectors and compute the inner product. As it turns out, [the `eigen(...)` method](https://docs.julialang.org/en/v1/stdlib/LinearAlgebra/#LinearAlgebra.eigen) appears to return something very close to [an orthonormal set of eigenvectors](https://en.wikipedia.org/wiki/Orthonormality) for the $\\mathbf{\\Sigma}$ matrix. Thus, we are checking the condition $\\left<\\mathbf{v}_{i},\\mathbf{v}_{j}\\right>=\\delta_{ij}$. If this test fails, [an `AssertionError` is thrown](https://docs.julialang.org/en/v1/base/base/#Core.AssertionError)."
   ]
  },
  {
   "cell_type": "code",
   "execution_count": 12,
   "id": "169b6ac2-9754-4e71-a946-c50a64171e8f",
   "metadata": {},
   "outputs": [
    {
     "ename": "UndefVarError",
     "evalue": "UndefVarError: `V` not defined in `Main`\nSuggestion: check for spelling errors or missing imports.",
     "output_type": "error",
     "traceback": [
      "UndefVarError: `V` not defined in `Main`\n",
      "Suggestion: check for spelling errors or missing imports.\n",
      "\n",
      "Stacktrace:\n",
      " [1] top-level scope\n",
      "   @ ~/Documents/GitHub/CHEME-5820-Labs-Spring-2025/labs/week-2/L2b/jl_notebook_cell_df34fa98e69747e1a8f8a730347b8e2f_X31sZmlsZQ==.jl:3"
     ]
    }
   ],
   "source": [
    "let\n",
    "    # initialize -\n",
    "    (number_of_rows, number_of_cols) = size(V);\n",
    "\n",
    "    for i ∈ 1:number_of_rows\n",
    "        vᵢ = V[:,i]; # get eigenvector i\n",
    "        for j ∈ 1:number_of_cols\n",
    "            vⱼ = V[:,j]; # get eigenvector j\n",
    "\n",
    "            # check logic\n",
    "            if (i == j)\n",
    "                @assert dot(vᵢ,vⱼ) ≈ 1.0;\n",
    "            else\n",
    "                @assert abs(dot(vᵢ,vⱼ)) ≤ 1e-10 # this is sort of interesting ...\n",
    "            end\n",
    "        end\n",
    "    end\n",
    "end"
   ]
  },
  {
   "cell_type": "markdown",
   "id": "aafaf9b2-611d-4bde-9b06-d11ab4020efd",
   "metadata": {},
   "source": [
    "## Task 3: What does the largest eigenvalue/eigenvector tell us?\n",
    "In this task, we'll explore what the largest eigenvector coefficients tell us about the $\\mathbf{\\Sigma}$ matrix and, by extension, the stoichiometric matrix $\\mathbf{S}$. Let's start by getting the eigenvector corresponding to the largest eigenvalue. Save this vector in the `v̂::Array{Float64,1}` variable.\n",
    "* __What is the `|>` operator doing?__ Functions in Julia can be combined by composing or piping (chaining) them together. The [pipe `|>` operator](https://docs.julialang.org/en/v1/manual/functions/#Function-composition-and-piping) enables you to apply a function to the previous function's output. Codes in the class (and most of the stuff I write) use this pattern heavily because I get a strange satisfaction by cramming as much logic as possible on a single line of code."
   ]
  },
  {
   "cell_type": "code",
   "execution_count": 13,
   "id": "35ef10d6-152f-4adf-b4ed-c8dfa4f115cc",
   "metadata": {},
   "outputs": [
    {
     "ename": "UndefVarError",
     "evalue": "UndefVarError: `Λ` not defined in `Main`\nSuggestion: check for spelling errors or missing imports.",
     "output_type": "error",
     "traceback": [
      "UndefVarError: `Λ` not defined in `Main`\n",
      "Suggestion: check for spelling errors or missing imports.\n",
      "\n",
      "Stacktrace:\n",
      " [1] top-level scope\n",
      "   @ ~/Documents/GitHub/CHEME-5820-Labs-Spring-2025/labs/week-2/L2b/jl_notebook_cell_df34fa98e69747e1a8f8a730347b8e2f_X33sZmlsZQ==.jl:1"
     ]
    }
   ],
   "source": [
    "v̂ = argmax(diag(Λ)) |> i-> V[:,i] # get the largest eigenvector. This is fancy, what is the |> doing?"
   ]
  },
  {
   "cell_type": "markdown",
   "id": "927c1294-5595-4f34-a5cb-b7dc899b4768",
   "metadata": {},
   "source": [
    "There are a few ways we can look at the components of the eigenvector."
   ]
  },
  {
   "cell_type": "markdown",
   "id": "5ab53822-c8f4-4718-b81f-60995d5e3e5c",
   "metadata": {},
   "source": [
    "#### Largest absolute component\n",
    "First, let's consider taking the absolute value of the elements and then scaling it by the sum of the components. For some vector $\\mathbf{z}$, \n",
    "the ith scaled component $\\sigma(\\mathbf{z})_{i}$ is given by:\n",
    "$$\n",
    "\\sigma(\\mathbf{z})_{i} = \\frac{\\text{abs}(z_{i})}{\\sum_{j=1}^{m}\\text{abs}(z_{j})}\\quad{i=1,2,\\dots,m}\n",
    "$$\n",
    "The scaled vectors should sum to `1`; thus, we can think about the elements (loosely) as probabilities, i.e., the probability that the ith component is the most important. Let's do the scaling, grab the index of the maximum scaled element [using the `argmax(...)` method](https://docs.julialang.org/en/v1/base/collections/#Base.argmax). We'll then pipe `|>` that index into reactions data, and pull out the most important reaction record:"
   ]
  },
  {
   "cell_type": "code",
   "execution_count": 14,
   "id": "d1d661b9-8a1a-4180-bc5d-d8fad6839f69",
   "metadata": {},
   "outputs": [
    {
     "ename": "UndefVarError",
     "evalue": "UndefVarError: `v̂` not defined in `Main`\nSuggestion: check for spelling errors or missing imports.",
     "output_type": "error",
     "traceback": [
      "UndefVarError: `v̂` not defined in `Main`\n",
      "Suggestion: check for spelling errors or missing imports.\n",
      "\n",
      "Stacktrace:\n",
      " [1] top-level scope\n",
      "   @ ~/Documents/GitHub/CHEME-5820-Labs-Spring-2025/labs/week-2/L2b/jl_notebook_cell_df34fa98e69747e1a8f8a730347b8e2f_X36sZmlsZQ==.jl:1"
     ]
    }
   ],
   "source": [
    "sum(abs.(v̂)) |> T -> (1/T)*abs.(v̂) |> argmax |> i-> model[\"reactions\"][i]"
   ]
  },
  {
   "cell_type": "markdown",
   "id": "6f1fc481-d04e-456a-9568-a1c0706dc729",
   "metadata": {},
   "source": [
    "#### Softmax\n",
    "Alternatively, let's use [the `softmax(...)` function](src/Compute.jl) to transform the largest eigenvector in a probability vector (sums to one, all entries are non-negative). The [softmax](https://en.wikipedia.org/wiki/Softmax_function) for some vector $\\mathbf{z}$ as\n",
    "$$\n",
    "\\begin{equation}\n",
    "\\sigma(\\mathbf{z})_{i} = \\frac{e^{z_{i}}}{\\sum_{j=1}^{m}e^{z_{j}}}\\quad{i=1,2,\\dots,m}\n",
    "\\end{equation}\n",
    "$$\n",
    "where $\\sigma(\\mathbf{z})_{i}$ is the ith components of the transformed eigenvector. We apply [the `argmax(...)` function](https://docs.julialang.org/en/v1/base/collections/#Base.argmax) to the transformed vector to get the largest component"
   ]
  },
  {
   "cell_type": "code",
   "execution_count": 15,
   "id": "c8acc252-f5ee-43bd-b752-b642e0102105",
   "metadata": {},
   "outputs": [
    {
     "ename": "UndefVarError",
     "evalue": "UndefVarError: `v̂` not defined in `Main`\nSuggestion: check for spelling errors or missing imports.",
     "output_type": "error",
     "traceback": [
      "UndefVarError: `v̂` not defined in `Main`\n",
      "Suggestion: check for spelling errors or missing imports.\n",
      "\n",
      "Stacktrace:\n",
      " [1] top-level scope\n",
      "   @ ~/Documents/GitHub/CHEME-5820-Labs-Spring-2025/labs/week-2/L2b/jl_notebook_cell_df34fa98e69747e1a8f8a730347b8e2f_X41sZmlsZQ==.jl:1"
     ]
    }
   ],
   "source": [
    "reaction = v̂ |> softmax |> argmax |> i-> model[\"reactions\"][i] # we save the *largest* impact reaction"
   ]
  },
  {
   "cell_type": "markdown",
   "id": "d3073b13-4f86-4d77-90f8-23557436ae05",
   "metadata": {},
   "source": [
    "### DQ: Hmmm. Does this make sense? \n",
    "Let's consider what this result is saying about the network and come to some consensus on whether this makes sense. What happens if we try a different network?"
   ]
  },
  {
   "cell_type": "code",
   "execution_count": 16,
   "id": "54d9e1d0-edad-4ec7-9301-7e2c38c431a8",
   "metadata": {},
   "outputs": [
    {
     "ename": "UndefVarError",
     "evalue": "UndefVarError: `reaction` not defined in `Main`\nSuggestion: check for spelling errors or missing imports.",
     "output_type": "error",
     "traceback": [
      "UndefVarError: `reaction` not defined in `Main`\n",
      "Suggestion: check for spelling errors or missing imports.\n",
      "\n",
      "Stacktrace:\n",
      " [1] top-level scope\n",
      "   @ ~/Documents/GitHub/CHEME-5820-Labs-Spring-2025/labs/week-2/L2b/jl_notebook_cell_df34fa98e69747e1a8f8a730347b8e2f_X43sZmlsZQ==.jl:1"
     ]
    }
   ],
   "source": [
    "reaction[\"metabolites\"]"
   ]
  },
  {
   "cell_type": "code",
   "execution_count": 17,
   "id": "9ff58e23-6cea-49ea-bd58-3f4b24a496cb",
   "metadata": {},
   "outputs": [
    {
     "ename": "UndefVarError",
     "evalue": "UndefVarError: `S` not defined in `Main`\nSuggestion: check for spelling errors or missing imports.",
     "output_type": "error",
     "traceback": [
      "UndefVarError: `S` not defined in `Main`\n",
      "Suggestion: check for spelling errors or missing imports.\n",
      "\n",
      "Stacktrace:\n",
      " [1] top-level scope\n",
      "   @ ~/Documents/GitHub/CHEME-5820-Labs-Spring-2025/labs/week-2/L2b/jl_notebook_cell_df34fa98e69747e1a8f8a730347b8e2f_X44sZmlsZQ==.jl:3"
     ]
    }
   ],
   "source": [
    "connectivity = let\n",
    "\n",
    "    (number_of_metabolites, number_of_reactions) = size(S);\n",
    "    connections = Dict{Int,Int}();\n",
    "\n",
    "    for i ∈ 1:number_of_reactions\n",
    "        connections[i] = model[\"reactions\"][i] |> d -> d[\"metabolites\"] |> length\n",
    "    end\n",
    "    connections\n",
    "end"
   ]
  },
  {
   "cell_type": "code",
   "execution_count": 18,
   "id": "6677c60a-384c-4759-afb4-a97c6b2f4e81",
   "metadata": {},
   "outputs": [
    {
     "ename": "UndefVarError",
     "evalue": "UndefVarError: `v̂` not defined in `Main`\nSuggestion: check for spelling errors or missing imports.",
     "output_type": "error",
     "traceback": [
      "UndefVarError: `v̂` not defined in `Main`\n",
      "Suggestion: check for spelling errors or missing imports.\n",
      "\n",
      "Stacktrace:\n",
      " [1] top-level scope\n",
      "   @ ~/Documents/GitHub/CHEME-5820-Labs-Spring-2025/labs/week-2/L2b/jl_notebook_cell_df34fa98e69747e1a8f8a730347b8e2f_X45sZmlsZQ==.jl:1"
     ]
    }
   ],
   "source": [
    "i = v̂ |> softmax |> argmax"
   ]
  },
  {
   "cell_type": "code",
   "execution_count": 19,
   "id": "d2113da4-94d2-4a3f-ada8-2d5f8d04777c",
   "metadata": {},
   "outputs": [
    {
     "ename": "UndefVarError",
     "evalue": "UndefVarError: `connectivity` not defined in `Main`\nSuggestion: check for spelling errors or missing imports.",
     "output_type": "error",
     "traceback": [
      "UndefVarError: `connectivity` not defined in `Main`\n",
      "Suggestion: check for spelling errors or missing imports.\n",
      "\n",
      "Stacktrace:\n",
      " [1] top-level scope\n",
      "   @ ~/Documents/GitHub/CHEME-5820-Labs-Spring-2025/labs/week-2/L2b/jl_notebook_cell_df34fa98e69747e1a8f8a730347b8e2f_X46sZmlsZQ==.jl:1"
     ]
    }
   ],
   "source": [
    "connectivity[232]"
   ]
  },
  {
   "cell_type": "code",
   "execution_count": 20,
   "id": "a53dac18-02d5-490d-9cea-e6d2f3e72dee",
   "metadata": {},
   "outputs": [
    {
     "ename": "UndefVarError",
     "evalue": "UndefVarError: `model` not defined in `Main`\nSuggestion: check for spelling errors or missing imports.",
     "output_type": "error",
     "traceback": [
      "UndefVarError: `model` not defined in `Main`\n",
      "Suggestion: check for spelling errors or missing imports.\n",
      "\n",
      "Stacktrace:\n",
      " [1] top-level scope\n",
      "   @ ~/Documents/GitHub/CHEME-5820-Labs-Spring-2025/labs/week-2/L2b/jl_notebook_cell_df34fa98e69747e1a8f8a730347b8e2f_X50sZmlsZQ==.jl:1"
     ]
    }
   ],
   "source": [
    "model[\"reactions\"][333][\"metabolites\"]"
   ]
  },
  {
   "cell_type": "code",
   "execution_count": 21,
   "id": "d7febad8-5a4c-4ace-8c0a-06693f4b67fa",
   "metadata": {},
   "outputs": [],
   "source": []
  }
 ],
 "metadata": {
  "kernelspec": {
   "display_name": "Julia 1.11.2",
   "language": "julia",
   "name": "julia-1.11"
  },
  "language_info": {
   "file_extension": ".jl",
   "mimetype": "application/julia",
   "name": "julia",
   "version": "1.11.2"
  }
 },
 "nbformat": 4,
 "nbformat_minor": 5
}
